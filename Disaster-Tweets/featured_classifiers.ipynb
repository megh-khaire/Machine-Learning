{
 "cells": [
  {
   "cell_type": "code",
   "execution_count": null,
   "metadata": {},
   "outputs": [],
   "source": [
    "import pandas as pd\n",
    "import numpy as np\n",
    "import seaborn as sns\n",
    "import matplotlib.pyplot as plt\n",
    "from sklearn.feature_extraction.text import TfidfVectorizer\n",
    "from sklearn.model_selection import RandomizedSearchCV, GridSearchCV, StratifiedKFold,train_test_split\n",
    "from sklearn.naive_bayes import GaussianNB\n",
    "from sklearn.naive_bayes import MultinomialNB\n",
    "from sklearn.linear_model import LogisticRegression\n",
    "from sklearn.ensemble import RandomForestClassifier\n",
    "from sklearn.tree import DecisionTreeClassifier\n",
    "from sklearn.svm import SVC\n",
    "from sklearn.metrics import confusion_matrix, classification_report\n",
    "from sklearn.preprocessing import StandardScaler"
   ]
  },
  {
   "cell_type": "code",
   "execution_count": 75,
   "metadata": {},
   "outputs": [],
   "source": [
    "def load_data(filename,cols):\n",
    "    dataset = pd.read_csv(filename,usecols=cols,encoding=\"latin1\")\n",
    "    dataset = dataset[cols]\n",
    "    return dataset"
   ]
  },
  {
   "cell_type": "code",
   "execution_count": 76,
   "metadata": {},
   "outputs": [],
   "source": [
    "def showResults(y_true, y_pred):\n",
    "    print(classification_report(y_true,y_pred),'\\n')\n",
    "    cf_matrix = confusion_matrix(y_true, y_pred)\n",
    "    sns.heatmap(cf_matrix/np.sum(cf_matrix), annot=True, fmt='.2%', cmap='Blues')"
   ]
  },
  {
   "cell_type": "code",
   "execution_count": 77,
   "metadata": {},
   "outputs": [
    {
     "data": {
      "text/html": [
       "<div>\n",
       "<style scoped>\n",
       "    .dataframe tbody tr th:only-of-type {\n",
       "        vertical-align: middle;\n",
       "    }\n",
       "\n",
       "    .dataframe tbody tr th {\n",
       "        vertical-align: top;\n",
       "    }\n",
       "\n",
       "    .dataframe thead th {\n",
       "        text-align: right;\n",
       "    }\n",
       "</style>\n",
       "<table border=\"1\" class=\"dataframe\">\n",
       "  <thead>\n",
       "    <tr style=\"text-align: right;\">\n",
       "      <th></th>\n",
       "      <th>keyword</th>\n",
       "      <th>text</th>\n",
       "      <th>mean_word_length</th>\n",
       "      <th>char_count</th>\n",
       "      <th>target</th>\n",
       "    </tr>\n",
       "  </thead>\n",
       "  <tbody>\n",
       "    <tr>\n",
       "      <th>7606</th>\n",
       "      <td>no_keyword</td>\n",
       "      <td>two giant crane holding bridge collapse nearby...</td>\n",
       "      <td>6.636364</td>\n",
       "      <td>83</td>\n",
       "      <td>1</td>\n",
       "    </tr>\n",
       "    <tr>\n",
       "      <th>7607</th>\n",
       "      <td>no_keyword</td>\n",
       "      <td>ahrary control wild fire california even north...</td>\n",
       "      <td>5.300000</td>\n",
       "      <td>125</td>\n",
       "      <td>1</td>\n",
       "    </tr>\n",
       "    <tr>\n",
       "      <th>7608</th>\n",
       "      <td>no_keyword</td>\n",
       "      <td>utc km volcano hawaii</td>\n",
       "      <td>7.250000</td>\n",
       "      <td>65</td>\n",
       "      <td>1</td>\n",
       "    </tr>\n",
       "    <tr>\n",
       "      <th>7609</th>\n",
       "      <td>no_keyword</td>\n",
       "      <td>police investigating e bike collided car littl...</td>\n",
       "      <td>6.263158</td>\n",
       "      <td>137</td>\n",
       "      <td>1</td>\n",
       "    </tr>\n",
       "    <tr>\n",
       "      <th>7610</th>\n",
       "      <td>no_keyword</td>\n",
       "      <td>latest home razed northern california wildfire...</td>\n",
       "      <td>6.307692</td>\n",
       "      <td>94</td>\n",
       "      <td>1</td>\n",
       "    </tr>\n",
       "  </tbody>\n",
       "</table>\n",
       "</div>"
      ],
      "text/plain": [
       "         keyword                                               text  \\\n",
       "7606  no_keyword  two giant crane holding bridge collapse nearby...   \n",
       "7607  no_keyword  ahrary control wild fire california even north...   \n",
       "7608  no_keyword                              utc km volcano hawaii   \n",
       "7609  no_keyword  police investigating e bike collided car littl...   \n",
       "7610  no_keyword  latest home razed northern california wildfire...   \n",
       "\n",
       "      mean_word_length  char_count  target  \n",
       "7606          6.636364          83       1  \n",
       "7607          5.300000         125       1  \n",
       "7608          7.250000          65       1  \n",
       "7609          6.263158         137       1  \n",
       "7610          6.307692          94       1  "
      ]
     },
     "execution_count": 77,
     "metadata": {},
     "output_type": "execute_result"
    }
   ],
   "source": [
    "dataset = load_data(\"cleaned_tweets.csv\",['keyword','text','mean_word_length','char_count','target'])\n",
    "dataset = dataset.dropna()\n",
    "dataset = dataset.reset_index(drop=True) \n",
    "dataset.tail()"
   ]
  },
  {
   "cell_type": "code",
   "execution_count": 80,
   "metadata": {},
   "outputs": [],
   "source": [
    "# Transforming tweets\n",
    "text_vectorizer = TfidfVectorizer(ngram_range=(1,2), max_features=1000)\n",
    "vect_text = text_vectorizer.fit_transform(dataset['text'])\n",
    "# Transforming keywords\n",
    "keyword_vectorizer = TfidfVectorizer(ngram_range=(1,1))\n",
    "vect_keyword = keyword_vectorizer.fit_transform(dataset['keyword'])\n",
    "# Scaling meta features \n",
    "sc = StandardScaler()\n",
    "meta_features = sc.fit_transform(dataset[['mean_word_length','char_count']])"
   ]
  },
  {
   "cell_type": "markdown",
   "metadata": {},
   "source": [
    "Here we transform tweets, keywords and scale mean word length and character count seperately and stack all the three vectors horizontally"
   ]
  },
  {
   "cell_type": "code",
   "execution_count": 81,
   "metadata": {},
   "outputs": [],
   "source": [
    "from scipy.sparse import hstack\n",
    "X = hstack([vect_text, vect_keyword,meta_features])\n",
    "y = dataset['target']\n",
    "X_train, X_test, y_train, y_test = train_test_split(X,y,test_size=0.3,random_state = 0)"
   ]
  },
  {
   "cell_type": "markdown",
   "metadata": {},
   "source": [
    "# Decision Tree Classifier"
   ]
  },
  {
   "cell_type": "code",
   "execution_count": 82,
   "metadata": {},
   "outputs": [
    {
     "data": {
      "text/plain": [
       "DecisionTreeClassifier(ccp_alpha=0.0, class_weight=None, criterion='gini',\n",
       "                       max_depth=None, max_features=None, max_leaf_nodes=None,\n",
       "                       min_impurity_decrease=0.0, min_impurity_split=None,\n",
       "                       min_samples_leaf=1, min_samples_split=2,\n",
       "                       min_weight_fraction_leaf=0.0, presort='deprecated',\n",
       "                       random_state=None, splitter='best')"
      ]
     },
     "execution_count": 82,
     "metadata": {},
     "output_type": "execute_result"
    }
   ],
   "source": [
    "DT_classifier = DecisionTreeClassifier()\n",
    "DT_classifier.fit(X_train, y_train)"
   ]
  },
  {
   "cell_type": "code",
   "execution_count": 83,
   "metadata": {},
   "outputs": [
    {
     "name": "stdout",
     "output_type": "stream",
     "text": [
      "              precision    recall  f1-score   support\n",
      "\n",
      "           0       0.99      1.00      0.99      3008\n",
      "           1       0.99      0.98      0.99      2319\n",
      "\n",
      "    accuracy                           0.99      5327\n",
      "   macro avg       0.99      0.99      0.99      5327\n",
      "weighted avg       0.99      0.99      0.99      5327\n",
      " \n",
      "\n"
     ]
    },
    {
     "data": {
      "image/png": "[encoded data removed]",
      "text/plain": [
       "<Figure size 432x288 with 2 Axes>"
      ]
     },
     "metadata": {
      "needs_background": "light"
     },
     "output_type": "display_data"
    }
   ],
   "source": [
    "y_pred = DT_classifier.predict(X_train)\n",
    "showResults(y_train, y_pred)"
   ]
  },
  {
   "cell_type": "code",
   "execution_count": 84,
   "metadata": {},
   "outputs": [
    {
     "name": "stdout",
     "output_type": "stream",
     "text": [
      "              precision    recall  f1-score   support\n",
      "\n",
      "           0       0.75      0.77      0.76      1333\n",
      "           1       0.67      0.65      0.66       951\n",
      "\n",
      "    accuracy                           0.72      2284\n",
      "   macro avg       0.71      0.71      0.71      2284\n",
      "weighted avg       0.72      0.72      0.72      2284\n",
      " \n",
      "\n"
     ]
    },
    {
     "data": {
      "image/png": "[encoded data removed]",
      "text/plain": [
       "<Figure size 432x288 with 2 Axes>"
      ]
     },
     "metadata": {
      "needs_background": "light"
     },
     "output_type": "display_data"
    }
   ],
   "source": [
    "y_pred = DT_classifier.predict(X_test)\n",
    "showResults(y_test, y_pred)"
   ]
  },
  {
   "cell_type": "markdown",
   "metadata": {},
   "source": [
    "## GridSearch for Decision Tree Classifier"
   ]
  },
  {
   "cell_type": "code",
   "execution_count": 85,
   "metadata": {},
   "outputs": [
    {
     "name": "stdout",
     "output_type": "stream",
     "text": [
      "Fitting 5 folds for each of 750 candidates, totalling 3750 fits\n"
     ]
    },
    {
     "name": "stderr",
     "output_type": "stream",
     "text": [
      "[Parallel(n_jobs=-1)]: Using backend LokyBackend with 4 concurrent workers.\n",
      "[Parallel(n_jobs=-1)]: Done  92 tasks      | elapsed:    1.5s\n",
      "[Parallel(n_jobs=-1)]: Done 692 tasks      | elapsed:    9.6s\n",
      "[Parallel(n_jobs=-1)]: Done 1692 tasks      | elapsed:   26.0s\n",
      "[Parallel(n_jobs=-1)]: Done 3092 tasks      | elapsed:   50.6s\n"
     ]
    },
    {
     "name": "stdout",
     "output_type": "stream",
     "text": [
      "Best Score:  0.7428191915721973\n",
      "Best Params:  {'max_depth': 84, 'max_features': 65}\n"
     ]
    },
    {
     "name": "stderr",
     "output_type": "stream",
     "text": [
      "[Parallel(n_jobs=-1)]: Done 3750 out of 3750 | elapsed:  1.0min finished\n"
     ]
    }
   ],
   "source": [
    "skf = StratifiedKFold(n_splits=5, shuffle=True, random_state=1) \n",
    "grid_params = {'max_depth': range(60,85),\n",
    "               'max_features': range(50,80)}\n",
    "\n",
    "grid_DT_clf = GridSearchCV(DecisionTreeClassifier(), grid_params,\n",
    "                         cv=skf, n_jobs=-1, verbose=True)\n",
    "\n",
    "grid_DT_clf.fit(X_train, y_train)\n",
    "print(\"Best Score: \", grid_DT_clf.best_score_)\n",
    "print(\"Best Params: \", grid_DT_clf.best_params_)"
   ]
  },
  {
   "cell_type": "code",
   "execution_count": 86,
   "metadata": {},
   "outputs": [
    {
     "name": "stdout",
     "output_type": "stream",
     "text": [
      "              precision    recall  f1-score   support\n",
      "\n",
      "           0       0.87      1.00      0.93      3008\n",
      "           1       0.99      0.81      0.89      2319\n",
      "\n",
      "    accuracy                           0.92      5327\n",
      "   macro avg       0.93      0.90      0.91      5327\n",
      "weighted avg       0.92      0.92      0.91      5327\n",
      " \n",
      "\n"
     ]
    },
    {
     "data": {
      "image/png": "[encoded data removed]",
      "text/plain": [
       "<Figure size 432x288 with 2 Axes>"
      ]
     },
     "metadata": {
      "needs_background": "light"
     },
     "output_type": "display_data"
    }
   ],
   "source": [
    "DT_classifier = grid_DT_clf.best_estimator_\n",
    "y_pred = DT_classifier.predict(X_train)\n",
    "showResults(y_train, y_pred)"
   ]
  },
  {
   "cell_type": "code",
   "execution_count": 87,
   "metadata": {},
   "outputs": [
    {
     "name": "stdout",
     "output_type": "stream",
     "text": [
      "              precision    recall  f1-score   support\n",
      "\n",
      "           0       0.73      0.84      0.78      1333\n",
      "           1       0.72      0.56      0.63       951\n",
      "\n",
      "    accuracy                           0.73      2284\n",
      "   macro avg       0.72      0.70      0.71      2284\n",
      "weighted avg       0.72      0.73      0.72      2284\n",
      " \n",
      "\n"
     ]
    },
    {
     "data": {
      "image/png": "[encoded data removed]",
      "text/plain": [
       "<Figure size 432x288 with 2 Axes>"
      ]
     },
     "metadata": {
      "needs_background": "light"
     },
     "output_type": "display_data"
    }
   ],
   "source": [
    "y_pred = DT_classifier.predict(X_test)\n",
    "showResults(y_test, y_pred)"
   ]
  },
  {
   "cell_type": "markdown",
   "metadata": {},
   "source": [
    "With the addition of new features Decision Tree's accuracy reduces from 76 to 73% also we can clearly see that with a training accuracy of 92% the model is overfitting and not able to generalize."
   ]
  },
  {
   "cell_type": "markdown",
   "metadata": {},
   "source": [
    "# Gaussian Naive Bayes"
   ]
  },
  {
   "cell_type": "code",
   "execution_count": 88,
   "metadata": {},
   "outputs": [
    {
     "data": {
      "text/plain": [
       "GaussianNB(priors=None, var_smoothing=1e-09)"
      ]
     },
     "execution_count": 88,
     "metadata": {},
     "output_type": "execute_result"
    }
   ],
   "source": [
    "GNB_classifier = GaussianNB()\n",
    "GNB_classifier.fit(X_train.toarray(), y_train)"
   ]
  },
  {
   "cell_type": "code",
   "execution_count": 89,
   "metadata": {},
   "outputs": [
    {
     "name": "stdout",
     "output_type": "stream",
     "text": [
      "              precision    recall  f1-score   support\n",
      "\n",
      "           0       0.71      0.97      0.82      3008\n",
      "           1       0.93      0.49      0.64      2319\n",
      "\n",
      "    accuracy                           0.76      5327\n",
      "   macro avg       0.82      0.73      0.73      5327\n",
      "weighted avg       0.81      0.76      0.74      5327\n",
      " \n",
      "\n"
     ]
    },
    {
     "data": {
      "image/png": "[encoded data removed]",
      "text/plain": [
       "<Figure size 432x288 with 2 Axes>"
      ]
     },
     "metadata": {
      "needs_background": "light"
     },
     "output_type": "display_data"
    }
   ],
   "source": [
    "y_pred = GNB_classifier.predict(X_train.toarray())\n",
    "showResults(y_train, y_pred)"
   ]
  },
  {
   "cell_type": "code",
   "execution_count": 90,
   "metadata": {},
   "outputs": [
    {
     "name": "stdout",
     "output_type": "stream",
     "text": [
      "              precision    recall  f1-score   support\n",
      "\n",
      "           0       0.71      0.95      0.82      1333\n",
      "           1       0.87      0.47      0.61       951\n",
      "\n",
      "    accuracy                           0.75      2284\n",
      "   macro avg       0.79      0.71      0.71      2284\n",
      "weighted avg       0.78      0.75      0.73      2284\n",
      " \n",
      "\n"
     ]
    },
    {
     "data": {
      "image/png": "[encoded data removed]",
      "text/plain": [
       "<Figure size 432x288 with 2 Axes>"
      ]
     },
     "metadata": {
      "needs_background": "light"
     },
     "output_type": "display_data"
    }
   ],
   "source": [
    "y_pred = GNB_classifier.predict(X_test.toarray())\n",
    "showResults(y_test, y_pred)"
   ]
  },
  {
   "cell_type": "markdown",
   "metadata": {},
   "source": [
    "With Gaussian Naive Bayes the accuracy has increased to 75."
   ]
  },
  {
   "cell_type": "markdown",
   "metadata": {},
   "source": [
    "# Logistic Regression"
   ]
  },
  {
   "cell_type": "code",
   "execution_count": 91,
   "metadata": {},
   "outputs": [
    {
     "data": {
      "text/plain": [
       "LogisticRegression(C=1.0, class_weight=None, dual=False, fit_intercept=True,\n",
       "                   intercept_scaling=1, l1_ratio=None, max_iter=1000,\n",
       "                   multi_class='auto', n_jobs=None, penalty='l2',\n",
       "                   random_state=None, solver='lbfgs', tol=0.0001, verbose=0,\n",
       "                   warm_start=False)"
      ]
     },
     "execution_count": 91,
     "metadata": {},
     "output_type": "execute_result"
    }
   ],
   "source": [
    "LR_classifier = LogisticRegression(max_iter=1000)\n",
    "LR_classifier.fit(X_train, y_train)"
   ]
  },
  {
   "cell_type": "code",
   "execution_count": 92,
   "metadata": {},
   "outputs": [
    {
     "name": "stdout",
     "output_type": "stream",
     "text": [
      "              precision    recall  f1-score   support\n",
      "\n",
      "           0       0.83      0.90      0.87      3008\n",
      "           1       0.86      0.76      0.81      2319\n",
      "\n",
      "    accuracy                           0.84      5327\n",
      "   macro avg       0.85      0.83      0.84      5327\n",
      "weighted avg       0.84      0.84      0.84      5327\n",
      " \n",
      "\n"
     ]
    },
    {
     "data": {
      "image/png": "[encoded data removed]",
      "text/plain": [
       "<Figure size 432x288 with 2 Axes>"
      ]
     },
     "metadata": {
      "needs_background": "light"
     },
     "output_type": "display_data"
    }
   ],
   "source": [
    "y_pred = LR_classifier.predict(X_train)\n",
    "showResults(y_train, y_pred)"
   ]
  },
  {
   "cell_type": "code",
   "execution_count": 93,
   "metadata": {},
   "outputs": [
    {
     "name": "stdout",
     "output_type": "stream",
     "text": [
      "              precision    recall  f1-score   support\n",
      "\n",
      "           0       0.80      0.86      0.83      1333\n",
      "           1       0.78      0.71      0.74       951\n",
      "\n",
      "    accuracy                           0.80      2284\n",
      "   macro avg       0.79      0.78      0.79      2284\n",
      "weighted avg       0.80      0.80      0.80      2284\n",
      " \n",
      "\n"
     ]
    },
    {
     "data": {
      "image/png": "[encoded data removed]",
      "text/plain": [
       "<Figure size 432x288 with 2 Axes>"
      ]
     },
     "metadata": {
      "needs_background": "light"
     },
     "output_type": "display_data"
    }
   ],
   "source": [
    "y_pred = LR_classifier.predict(X_test)\n",
    "showResults(y_test, y_pred)"
   ]
  },
  {
   "cell_type": "markdown",
   "metadata": {},
   "source": [
    "## GridSearch for Logistic Regression"
   ]
  },
  {
   "cell_type": "code",
   "execution_count": 94,
   "metadata": {},
   "outputs": [
    {
     "name": "stdout",
     "output_type": "stream",
     "text": [
      "Fitting 5 folds for each of 180 candidates, totalling 900 fits\n"
     ]
    },
    {
     "name": "stderr",
     "output_type": "stream",
     "text": [
      "[Parallel(n_jobs=-1)]: Using backend LokyBackend with 4 concurrent workers.\n",
      "[Parallel(n_jobs=-1)]: Done 280 tasks      | elapsed:    1.2s\n"
     ]
    },
    {
     "name": "stdout",
     "output_type": "stream",
     "text": [
      "Best Score:  0.7891858467880454\n",
      "Best Params:  {'C': 1, 'max_iter': 100, 'penalty': 'l2', 'solver': 'liblinear'}\n"
     ]
    },
    {
     "name": "stderr",
     "output_type": "stream",
     "text": [
      "[Parallel(n_jobs=-1)]: Done 900 out of 900 | elapsed:    9.3s finished\n"
     ]
    }
   ],
   "source": [
    "grid_params = {\n",
    "    'penalty' : ['l1', 'l2'],\n",
    "    'C' : [0.001, 0.003, 0.01, 0.03, 0.1, 0.3, 1, 3, 10],\n",
    "    'solver' : ['liblinear'],\n",
    "    'max_iter':[int(x) for x in np.linspace(100, 1000, num = 10)]\n",
    "}\n",
    "grid_LR_clf = GridSearchCV(estimator = LogisticRegression(), \n",
    "                           param_grid = grid_params,                           \n",
    "                           verbose=True,\n",
    "                           cv=skf,\n",
    "                           n_jobs = -1)\n",
    "grid_LR_clf.fit(X_train, y_train)\n",
    "print(\"Best Score: \", grid_LR_clf.best_score_)\n",
    "print(\"Best Params: \", grid_LR_clf.best_params_)"
   ]
  },
  {
   "cell_type": "code",
   "execution_count": 95,
   "metadata": {},
   "outputs": [
    {
     "name": "stdout",
     "output_type": "stream",
     "text": [
      "              precision    recall  f1-score   support\n",
      "\n",
      "           0       0.83      0.90      0.87      3008\n",
      "           1       0.86      0.76      0.81      2319\n",
      "\n",
      "    accuracy                           0.84      5327\n",
      "   macro avg       0.85      0.83      0.84      5327\n",
      "weighted avg       0.84      0.84      0.84      5327\n",
      " \n",
      "\n"
     ]
    },
    {
     "data": {
      "image/png": "[encoded data removed]",
      "text/plain": [
       "<Figure size 432x288 with 2 Axes>"
      ]
     },
     "metadata": {
      "needs_background": "light"
     },
     "output_type": "display_data"
    }
   ],
   "source": [
    "LR_classifier = grid_LR_clf.best_estimator_\n",
    "y_pred = LR_classifier.predict(X_train)\n",
    "showResults(y_train, y_pred)"
   ]
  },
  {
   "cell_type": "code",
   "execution_count": 96,
   "metadata": {},
   "outputs": [
    {
     "name": "stdout",
     "output_type": "stream",
     "text": [
      "              precision    recall  f1-score   support\n",
      "\n",
      "           0       0.80      0.86      0.83      1333\n",
      "           1       0.78      0.71      0.74       951\n",
      "\n",
      "    accuracy                           0.80      2284\n",
      "   macro avg       0.79      0.78      0.79      2284\n",
      "weighted avg       0.80      0.80      0.80      2284\n",
      " \n",
      "\n"
     ]
    },
    {
     "data": {
      "image/png": "[encoded data removed]",
      "text/plain": [
       "<Figure size 432x288 with 2 Axes>"
      ]
     },
     "metadata": {
      "needs_background": "light"
     },
     "output_type": "display_data"
    }
   ],
   "source": [
    "y_pred = LR_classifier.predict(X_test)\n",
    "showResults(y_test, y_pred)"
   ]
  },
  {
   "cell_type": "markdown",
   "metadata": {},
   "source": [
    "With Logistic Regression the results are much better with an accuracy of 80%"
   ]
  },
  {
   "cell_type": "markdown",
   "metadata": {},
   "source": [
    "# Support Vector Classifier"
   ]
  },
  {
   "cell_type": "code",
   "execution_count": 97,
   "metadata": {},
   "outputs": [
    {
     "data": {
      "text/plain": [
       "SVC(C=1.0, break_ties=False, cache_size=200, class_weight=None, coef0=0.0,\n",
       "    decision_function_shape='ovr', degree=3, gamma='scale', kernel='rbf',\n",
       "    max_iter=-1, probability=False, random_state=None, shrinking=True,\n",
       "    tol=0.001, verbose=False)"
      ]
     },
     "execution_count": 97,
     "metadata": {},
     "output_type": "execute_result"
    }
   ],
   "source": [
    "SV_classifier = SVC() \n",
    "SV_classifier.fit(X_train, y_train) "
   ]
  },
  {
   "cell_type": "code",
   "execution_count": 98,
   "metadata": {},
   "outputs": [
    {
     "name": "stdout",
     "output_type": "stream",
     "text": [
      "              precision    recall  f1-score   support\n",
      "\n",
      "           0       0.86      0.94      0.90      3008\n",
      "           1       0.91      0.80      0.85      2319\n",
      "\n",
      "    accuracy                           0.88      5327\n",
      "   macro avg       0.88      0.87      0.87      5327\n",
      "weighted avg       0.88      0.88      0.87      5327\n",
      " \n",
      "\n"
     ]
    },
    {
     "data": {
      "image/png": "[encoded data removed]",
      "text/plain": [
       "<Figure size 432x288 with 2 Axes>"
      ]
     },
     "metadata": {
      "needs_background": "light"
     },
     "output_type": "display_data"
    }
   ],
   "source": [
    "y_pred = SV_classifier.predict(X_train)\n",
    "showResults(y_train, y_pred)"
   ]
  },
  {
   "cell_type": "code",
   "execution_count": 99,
   "metadata": {},
   "outputs": [
    {
     "name": "stdout",
     "output_type": "stream",
     "text": [
      "              precision    recall  f1-score   support\n",
      "\n",
      "           0       0.79      0.86      0.82      1333\n",
      "           1       0.78      0.67      0.72       951\n",
      "\n",
      "    accuracy                           0.78      2284\n",
      "   macro avg       0.78      0.77      0.77      2284\n",
      "weighted avg       0.78      0.78      0.78      2284\n",
      " \n",
      "\n"
     ]
    },
    {
     "data": {
      "image/png": "[encoded data removed]",
      "text/plain": [
       "<Figure size 432x288 with 2 Axes>"
      ]
     },
     "metadata": {
      "needs_background": "light"
     },
     "output_type": "display_data"
    }
   ],
   "source": [
    "y_pred = SV_classifier.predict(X_test)\n",
    "showResults(y_test, y_pred)"
   ]
  },
  {
   "cell_type": "markdown",
   "metadata": {},
   "source": [
    "## GridSearch for Support Vector Classifier"
   ]
  },
  {
   "cell_type": "code",
   "execution_count": 100,
   "metadata": {},
   "outputs": [
    {
     "name": "stdout",
     "output_type": "stream",
     "text": [
      "Fitting 5 folds for each of 60 candidates, totalling 300 fits\n"
     ]
    },
    {
     "name": "stderr",
     "output_type": "stream",
     "text": [
      "[Parallel(n_jobs=-1)]: Using backend LokyBackend with 4 concurrent workers.\n",
      "[Parallel(n_jobs=-1)]: Done  42 tasks      | elapsed:  2.8min\n",
      "[Parallel(n_jobs=-1)]: Done 192 tasks      | elapsed:  6.0min\n",
      "[Parallel(n_jobs=-1)]: Done 300 out of 300 | elapsed:  8.4min finished\n"
     ]
    },
    {
     "name": "stdout",
     "output_type": "stream",
     "text": [
      "Best Score:  0.7882502268142941\n",
      "Best Params:  {'C': 1, 'kernel': 'linear'}\n"
     ]
    }
   ],
   "source": [
    "grid_params = [{'C': [0.001, 0.01, 0.1, 1,3, 10, 100], 'kernel': ['linear']},\n",
    "              {'C': [0.001, 0.01, 0.1, 1,3, 10, 100], 'kernel': ['rbf'], 'gamma': [0.1, 0.2, 0.3, 0.4, 0.5, 0.6, 0.7, 0.8, 0.9]}]\n",
    "grid_SV_clf = GridSearchCV(estimator = SVC() ,\n",
    "                           param_grid = grid_params,\n",
    "                           verbose=True,\n",
    "                           cv = skf,\n",
    "                           n_jobs = -1)\n",
    "grid_SV_clf.fit(X_train, y_train)\n",
    "print(\"Best Score: \", grid_SV_clf.best_score_)\n",
    "print(\"Best Params: \", grid_SV_clf.best_params_)"
   ]
  },
  {
   "cell_type": "code",
   "execution_count": 101,
   "metadata": {},
   "outputs": [
    {
     "name": "stdout",
     "output_type": "stream",
     "text": [
      "              precision    recall  f1-score   support\n",
      "\n",
      "           0       0.84      0.91      0.87      3008\n",
      "           1       0.87      0.77      0.82      2319\n",
      "\n",
      "    accuracy                           0.85      5327\n",
      "   macro avg       0.86      0.84      0.85      5327\n",
      "weighted avg       0.85      0.85      0.85      5327\n",
      " \n",
      "\n"
     ]
    },
    {
     "data": {
      "image/png": "[encoded data removed]",
      "text/plain": [
       "<Figure size 432x288 with 2 Axes>"
      ]
     },
     "metadata": {
      "needs_background": "light"
     },
     "output_type": "display_data"
    }
   ],
   "source": [
    "SV_classifier = grid_SV_clf.best_estimator_ \n",
    "y_pred = SV_classifier.predict(X_train)\n",
    "showResults(y_train, y_pred)"
   ]
  },
  {
   "cell_type": "code",
   "execution_count": 102,
   "metadata": {},
   "outputs": [
    {
     "name": "stdout",
     "output_type": "stream",
     "text": [
      "              precision    recall  f1-score   support\n",
      "\n",
      "           0       0.80      0.86      0.83      1333\n",
      "           1       0.78      0.69      0.73       951\n",
      "\n",
      "    accuracy                           0.79      2284\n",
      "   macro avg       0.79      0.78      0.78      2284\n",
      "weighted avg       0.79      0.79      0.79      2284\n",
      " \n",
      "\n"
     ]
    },
    {
     "data": {
      "image/png": "[encoded data removed]",
      "text/plain": [
       "<Figure size 432x288 with 2 Axes>"
      ]
     },
     "metadata": {
      "needs_background": "light"
     },
     "output_type": "display_data"
    }
   ],
   "source": [
    "y_pred = SV_classifier.predict(X_test)\n",
    "showResults(y_test, y_pred)"
   ]
  },
  {
   "cell_type": "markdown",
   "metadata": {},
   "source": [
    "SVM classifier performs better than Gaussian Naive Bayes and Decision Trees but Logistic Regression is still the best clasifier so far"
   ]
  },
  {
   "cell_type": "markdown",
   "metadata": {},
   "source": [
    "# Random Forest Classifier"
   ]
  },
  {
   "cell_type": "code",
   "execution_count": 103,
   "metadata": {},
   "outputs": [
    {
     "data": {
      "text/plain": [
       "RandomForestClassifier(bootstrap=True, ccp_alpha=0.0, class_weight=None,\n",
       "                       criterion='gini', max_depth=None, max_features='auto',\n",
       "                       max_leaf_nodes=None, max_samples=None,\n",
       "                       min_impurity_decrease=0.0, min_impurity_split=None,\n",
       "                       min_samples_leaf=1, min_samples_split=2,\n",
       "                       min_weight_fraction_leaf=0.0, n_estimators=100,\n",
       "                       n_jobs=None, oob_score=False, random_state=None,\n",
       "                       verbose=0, warm_start=False)"
      ]
     },
     "execution_count": 103,
     "metadata": {},
     "output_type": "execute_result"
    }
   ],
   "source": [
    "RF_classifier = RandomForestClassifier()\n",
    "RF_classifier.fit(X_train, y_train)"
   ]
  },
  {
   "cell_type": "code",
   "execution_count": 104,
   "metadata": {},
   "outputs": [
    {
     "name": "stdout",
     "output_type": "stream",
     "text": [
      "              precision    recall  f1-score   support\n",
      "\n",
      "           0       0.99      0.99      0.99      3008\n",
      "           1       0.99      0.98      0.99      2319\n",
      "\n",
      "    accuracy                           0.99      5327\n",
      "   macro avg       0.99      0.99      0.99      5327\n",
      "weighted avg       0.99      0.99      0.99      5327\n",
      " \n",
      "\n"
     ]
    },
    {
     "data": {
      "image/png": "[encoded data removed]",
      "text/plain": [
       "<Figure size 432x288 with 2 Axes>"
      ]
     },
     "metadata": {
      "needs_background": "light"
     },
     "output_type": "display_data"
    }
   ],
   "source": [
    "y_pred = RF_classifier.predict(X_train)\n",
    "showResults(y_train, y_pred)"
   ]
  },
  {
   "cell_type": "code",
   "execution_count": 105,
   "metadata": {},
   "outputs": [
    {
     "name": "stdout",
     "output_type": "stream",
     "text": [
      "              precision    recall  f1-score   support\n",
      "\n",
      "           0       0.78      0.88      0.83      1333\n",
      "           1       0.80      0.65      0.72       951\n",
      "\n",
      "    accuracy                           0.79      2284\n",
      "   macro avg       0.79      0.77      0.77      2284\n",
      "weighted avg       0.79      0.79      0.78      2284\n",
      " \n",
      "\n"
     ]
    },
    {
     "data": {
      "image/png": "[encoded data removed]",
      "text/plain": [
       "<Figure size 432x288 with 2 Axes>"
      ]
     },
     "metadata": {
      "needs_background": "light"
     },
     "output_type": "display_data"
    }
   ],
   "source": [
    "y_pred = RF_classifier.predict(X_test)\n",
    "showResults(y_test, y_pred)"
   ]
  },
  {
   "cell_type": "markdown",
   "metadata": {},
   "source": [
    "## RandomizedSearch for Random Forest Classifier"
   ]
  },
  {
   "cell_type": "code",
   "execution_count": 106,
   "metadata": {},
   "outputs": [
    {
     "name": "stdout",
     "output_type": "stream",
     "text": [
      "Fitting 5 folds for each of 100 candidates, totalling 500 fits\n"
     ]
    },
    {
     "name": "stderr",
     "output_type": "stream",
     "text": [
      "[Parallel(n_jobs=-1)]: Using backend LokyBackend with 4 concurrent workers.\n",
      "[Parallel(n_jobs=-1)]: Done  42 tasks      | elapsed:  3.8min\n",
      "[Parallel(n_jobs=-1)]: Done 192 tasks      | elapsed: 20.6min\n",
      "[Parallel(n_jobs=-1)]: Done 442 tasks      | elapsed: 44.9min\n",
      "[Parallel(n_jobs=-1)]: Done 500 out of 500 | elapsed: 48.8min finished\n"
     ]
    },
    {
     "name": "stdout",
     "output_type": "stream",
     "text": [
      "Best Score:  0.7890017528560984\n",
      "Best Params:  {'n_estimators': 780, 'max_depth': 120}\n"
     ]
    }
   ],
   "source": [
    "# Number of trees in random forest\n",
    "n_estimators = [int(x) for x in np.linspace(start = 10, stop = 1000, num = 10)]\n",
    "# Maximum number of levels in tree\n",
    "max_depth = [int(x) for x in np.linspace(10, 1000, num = 10)]\n",
    "max_depth.append(None)\n",
    "# Create the random grid\n",
    "random_grid = {'n_estimators': n_estimators,\n",
    "               'max_depth': max_depth,\n",
    "              }\n",
    "rf_random = RandomizedSearchCV(estimator = RandomForestClassifier(), param_distributions = random_grid, n_iter = 100, cv = skf,n_jobs = -1,verbose=True)\n",
    "rf_random.fit(X_train, y_train)\n",
    "print(\"Best Score: \", rf_random.best_score_)\n",
    "print(\"Best Params: \", rf_random.best_params_)"
   ]
  },
  {
   "cell_type": "code",
   "execution_count": 107,
   "metadata": {},
   "outputs": [
    {
     "name": "stdout",
     "output_type": "stream",
     "text": [
      "              precision    recall  f1-score   support\n",
      "\n",
      "           0       0.95      1.00      0.97      3008\n",
      "           1       0.99      0.93      0.96      2319\n",
      "\n",
      "    accuracy                           0.97      5327\n",
      "   macro avg       0.97      0.96      0.96      5327\n",
      "weighted avg       0.97      0.97      0.97      5327\n",
      " \n",
      "\n"
     ]
    },
    {
     "data": {
      "image/png": "[encoded data removed]",
      "text/plain": [
       "<Figure size 432x288 with 2 Axes>"
      ]
     },
     "metadata": {
      "needs_background": "light"
     },
     "output_type": "display_data"
    }
   ],
   "source": [
    "RF_classifier = rf_random.best_estimator_\n",
    "y_pred = RF_classifier.predict(X_train)\n",
    "showResults(y_train, y_pred)"
   ]
  },
  {
   "cell_type": "code",
   "execution_count": 108,
   "metadata": {},
   "outputs": [
    {
     "name": "stdout",
     "output_type": "stream",
     "text": [
      "              precision    recall  f1-score   support\n",
      "\n",
      "           0       0.78      0.90      0.84      1333\n",
      "           1       0.83      0.64      0.72       951\n",
      "\n",
      "    accuracy                           0.79      2284\n",
      "   macro avg       0.80      0.77      0.78      2284\n",
      "weighted avg       0.80      0.79      0.79      2284\n",
      " \n",
      "\n"
     ]
    },
    {
     "data": {
      "image/png": "[encoded data removed]",
      "text/plain": [
       "<Figure size 432x288 with 2 Axes>"
      ]
     },
     "metadata": {
      "needs_background": "light"
     },
     "output_type": "display_data"
    }
   ],
   "source": [
    "y_pred = RF_classifier.predict(X_test)\n",
    "showResults(y_test, y_pred)"
   ]
  },
  {
   "cell_type": "markdown",
   "metadata": {},
   "source": [
    "Similar to the Decision Tree we get a high training accuracy of 97%, but the model is not able to generalize and is overfitting with a validation accuracy of 79%."
   ]
  },
  {
   "cell_type": "markdown",
   "metadata": {},
   "source": [
    "## Multinomial Naive Bayes"
   ]
  },
  {
   "cell_type": "code",
   "execution_count": 109,
   "metadata": {},
   "outputs": [],
   "source": [
    "X = hstack([vect_text, vect_keyword,dataset[['mean_word_length','char_count']]])\n",
    "y = dataset['target']\n",
    "X_train, X_test, y_train, y_test = train_test_split(X,y,test_size=0.3,random_state = 0)"
   ]
  },
  {
   "cell_type": "code",
   "execution_count": 110,
   "metadata": {},
   "outputs": [
    {
     "data": {
      "text/plain": [
       "MultinomialNB(alpha=1, class_prior=None, fit_prior=True)"
      ]
     },
     "execution_count": 110,
     "metadata": {},
     "output_type": "execute_result"
    }
   ],
   "source": [
    "MNB_classifier = MultinomialNB(alpha=1)\n",
    "MNB_classifier.fit(X_train, y_train)"
   ]
  },
  {
   "cell_type": "code",
   "execution_count": 111,
   "metadata": {},
   "outputs": [
    {
     "name": "stdout",
     "output_type": "stream",
     "text": [
      "              precision    recall  f1-score   support\n",
      "\n",
      "           0       0.82      0.86      0.84      3008\n",
      "           1       0.81      0.75      0.78      2319\n",
      "\n",
      "    accuracy                           0.81      5327\n",
      "   macro avg       0.81      0.81      0.81      5327\n",
      "weighted avg       0.81      0.81      0.81      5327\n",
      " \n",
      "\n"
     ]
    },
    {
     "data": {
      "image/png": "[encoded data removed]",
      "text/plain": [
       "<Figure size 432x288 with 2 Axes>"
      ]
     },
     "metadata": {
      "needs_background": "light"
     },
     "output_type": "display_data"
    }
   ],
   "source": [
    "y_pred = MNB_classifier.predict(X_train)\n",
    "showResults(y_train, y_pred)"
   ]
  },
  {
   "cell_type": "code",
   "execution_count": 112,
   "metadata": {},
   "outputs": [
    {
     "name": "stdout",
     "output_type": "stream",
     "text": [
      "              precision    recall  f1-score   support\n",
      "\n",
      "           0       0.79      0.84      0.81      1333\n",
      "           1       0.75      0.69      0.72       951\n",
      "\n",
      "    accuracy                           0.78      2284\n",
      "   macro avg       0.77      0.76      0.77      2284\n",
      "weighted avg       0.78      0.78      0.78      2284\n",
      " \n",
      "\n"
     ]
    },
    {
     "data": {
      "image/png": "[encoded data removed]",
      "text/plain": [
       "<Figure size 432x288 with 2 Axes>"
      ]
     },
     "metadata": {
      "needs_background": "light"
     },
     "output_type": "display_data"
    }
   ],
   "source": [
    "y_pred = MNB_classifier.predict(X_test)\n",
    "showResults(y_test, y_pred)"
   ]
  },
  {
   "cell_type": "code",
   "execution_count": 113,
   "metadata": {},
   "outputs": [
    {
     "name": "stdout",
     "output_type": "stream",
     "text": [
      "Fitting 5 folds for each of 26 candidates, totalling 130 fits\n"
     ]
    },
    {
     "name": "stderr",
     "output_type": "stream",
     "text": [
      "[Parallel(n_jobs=-1)]: Using backend LokyBackend with 4 concurrent workers.\n"
     ]
    },
    {
     "name": "stdout",
     "output_type": "stream",
     "text": [
      "Best Score:  0.7858096169260718\n",
      "Best Params:  {'alpha': 0.01, 'fit_prior': True}\n"
     ]
    },
    {
     "name": "stderr",
     "output_type": "stream",
     "text": [
      "[Parallel(n_jobs=-1)]: Done 130 out of 130 | elapsed:    0.4s finished\n"
     ]
    }
   ],
   "source": [
    "grid_params = {\n",
    "    'alpha': [0.0002, 0.0003, 0.0005,0.0001,0.001, 0.003, 0.01, 0.03, 0.1, 0.3, 1, 3, 10],\n",
    "    'fit_prior': [True, False]\n",
    "}\n",
    "grid_MNB_clf = GridSearchCV(estimator = MultinomialNB(),\n",
    "                            param_grid = grid_params,                           \n",
    "                            verbose=True,\n",
    "                            cv = skf,\n",
    "                            n_jobs = -1)\n",
    "grid_MNB_clf.fit(X_train, y_train)\n",
    "print(\"Best Score: \", grid_MNB_clf.best_score_)\n",
    "print(\"Best Params: \", grid_MNB_clf.best_params_)"
   ]
  },
  {
   "cell_type": "code",
   "execution_count": 114,
   "metadata": {},
   "outputs": [
    {
     "name": "stdout",
     "output_type": "stream",
     "text": [
      "              precision    recall  f1-score   support\n",
      "\n",
      "           0       0.82      0.86      0.84      3008\n",
      "           1       0.81      0.76      0.78      2319\n",
      "\n",
      "    accuracy                           0.82      5327\n",
      "   macro avg       0.82      0.81      0.81      5327\n",
      "weighted avg       0.82      0.82      0.82      5327\n",
      " \n",
      "\n"
     ]
    },
    {
     "data": {
      "image/png": "[encoded data removed]",
      "text/plain": [
       "<Figure size 432x288 with 2 Axes>"
      ]
     },
     "metadata": {
      "needs_background": "light"
     },
     "output_type": "display_data"
    }
   ],
   "source": [
    "MNB_classifier = grid_MNB_clf.best_estimator_\n",
    "y_pred = MNB_classifier.predict(X_train)\n",
    "showResults(y_train, y_pred)"
   ]
  },
  {
   "cell_type": "code",
   "execution_count": 115,
   "metadata": {},
   "outputs": [
    {
     "name": "stdout",
     "output_type": "stream",
     "text": [
      "              precision    recall  f1-score   support\n",
      "\n",
      "           0       0.80      0.84      0.82      1333\n",
      "           1       0.75      0.70      0.73       951\n",
      "\n",
      "    accuracy                           0.78      2284\n",
      "   macro avg       0.78      0.77      0.77      2284\n",
      "weighted avg       0.78      0.78      0.78      2284\n",
      " \n",
      "\n"
     ]
    },
    {
     "data": {
      "image/png": "[encoded data removed]",
      "text/plain": [
       "<Figure size 432x288 with 2 Axes>"
      ]
     },
     "metadata": {
      "needs_background": "light"
     },
     "output_type": "display_data"
    }
   ],
   "source": [
    "y_pred = MNB_classifier.predict(X_test)\n",
    "showResults(y_test, y_pred)"
   ]
  },
  {
   "cell_type": "markdown",
   "metadata": {},
   "source": [
    "As expected Multinomial Naive Bayes performs better than Gaussian Naive Bayes and gives an accuracy of 78%. "
   ]
  },
  {
   "cell_type": "markdown",
   "metadata": {},
   "source": [
    "# Logitic Regression with keywords and text"
   ]
  },
  {
   "cell_type": "markdown",
   "metadata": {},
   "source": [
    "As per our analysis so far Logistic Regression with the inclusion of meta features and keywords gives the highest accuracy of 80%, but what if we exculde the meta features and focus on keywords and text . "
   ]
  },
  {
   "cell_type": "code",
   "execution_count": 116,
   "metadata": {},
   "outputs": [],
   "source": [
    "X = hstack([vect_text, vect_keyword])\n",
    "y = dataset['target']\n",
    "X_train, X_test, y_train, y_test = train_test_split(X,y,test_size=0.3,random_state = 0)"
   ]
  },
  {
   "cell_type": "code",
   "execution_count": 117,
   "metadata": {},
   "outputs": [
    {
     "data": {
      "text/plain": [
       "LogisticRegression(C=1.0, class_weight=None, dual=False, fit_intercept=True,\n",
       "                   intercept_scaling=1, l1_ratio=None, max_iter=1000,\n",
       "                   multi_class='auto', n_jobs=None, penalty='l2',\n",
       "                   random_state=None, solver='lbfgs', tol=0.0001, verbose=0,\n",
       "                   warm_start=False)"
      ]
     },
     "execution_count": 117,
     "metadata": {},
     "output_type": "execute_result"
    }
   ],
   "source": [
    "LR_classifier = LogisticRegression(max_iter=1000)\n",
    "LR_classifier.fit(X_train, y_train)"
   ]
  },
  {
   "cell_type": "code",
   "execution_count": 118,
   "metadata": {},
   "outputs": [
    {
     "name": "stdout",
     "output_type": "stream",
     "text": [
      "              precision    recall  f1-score   support\n",
      "\n",
      "           0       0.83      0.90      0.86      3008\n",
      "           1       0.86      0.76      0.81      2319\n",
      "\n",
      "    accuracy                           0.84      5327\n",
      "   macro avg       0.84      0.83      0.84      5327\n",
      "weighted avg       0.84      0.84      0.84      5327\n",
      " \n",
      "\n"
     ]
    },
    {
     "data": {
      "image/png": "[encoded data removed]",
      "text/plain": [
       "<Figure size 432x288 with 2 Axes>"
      ]
     },
     "metadata": {
      "needs_background": "light"
     },
     "output_type": "display_data"
    }
   ],
   "source": [
    "y_pred = LR_classifier.predict(X_train)\n",
    "showResults(y_train, y_pred)"
   ]
  },
  {
   "cell_type": "code",
   "execution_count": 119,
   "metadata": {},
   "outputs": [
    {
     "name": "stdout",
     "output_type": "stream",
     "text": [
      "              precision    recall  f1-score   support\n",
      "\n",
      "           0       0.80      0.86      0.83      1333\n",
      "           1       0.78      0.69      0.73       951\n",
      "\n",
      "    accuracy                           0.79      2284\n",
      "   macro avg       0.79      0.78      0.78      2284\n",
      "weighted avg       0.79      0.79      0.79      2284\n",
      " \n",
      "\n"
     ]
    },
    {
     "data": {
      "image/png": "[encoded data removed]",
      "text/plain": [
       "<Figure size 432x288 with 2 Axes>"
      ]
     },
     "metadata": {
      "needs_background": "light"
     },
     "output_type": "display_data"
    }
   ],
   "source": [
    "y_pred = LR_classifier.predict(X_test)\n",
    "showResults(y_test, y_pred)"
   ]
  },
  {
   "cell_type": "code",
   "execution_count": 120,
   "metadata": {},
   "outputs": [
    {
     "name": "stdout",
     "output_type": "stream",
     "text": [
      "Fitting 5 folds for each of 180 candidates, totalling 900 fits\n"
     ]
    },
    {
     "name": "stderr",
     "output_type": "stream",
     "text": [
      "[Parallel(n_jobs=-1)]: Using backend LokyBackend with 4 concurrent workers.\n",
      "[Parallel(n_jobs=-1)]: Done 280 tasks      | elapsed:    1.1s\n"
     ]
    },
    {
     "name": "stdout",
     "output_type": "stream",
     "text": [
      "Best Score:  0.7920034528622643\n",
      "Best Params:  {'C': 1, 'max_iter': 100, 'penalty': 'l2', 'solver': 'liblinear'}\n"
     ]
    },
    {
     "name": "stderr",
     "output_type": "stream",
     "text": [
      "[Parallel(n_jobs=-1)]: Done 900 out of 900 | elapsed:    7.9s finished\n"
     ]
    }
   ],
   "source": [
    "grid_params = {\n",
    "    'penalty' : ['l1', 'l2'],\n",
    "    'C' : [0.001, 0.003, 0.01, 0.03, 0.1, 0.3, 1, 3, 10],\n",
    "    'solver' : ['liblinear'],\n",
    "    'max_iter':[int(x) for x in np.linspace(100, 1000, num = 10)]\n",
    "}\n",
    "grid_LR_clf = GridSearchCV(estimator = LogisticRegression(), \n",
    "                           param_grid = grid_params,                           \n",
    "                           verbose=True,\n",
    "                           cv=skf,\n",
    "                           n_jobs = -1)\n",
    "grid_LR_clf.fit(X_train, y_train)\n",
    "print(\"Best Score: \", grid_LR_clf.best_score_)\n",
    "print(\"Best Params: \", grid_LR_clf.best_params_)"
   ]
  },
  {
   "cell_type": "code",
   "execution_count": 121,
   "metadata": {},
   "outputs": [
    {
     "name": "stdout",
     "output_type": "stream",
     "text": [
      "              precision    recall  f1-score   support\n",
      "\n",
      "           0       0.83      0.90      0.86      3008\n",
      "           1       0.86      0.76      0.81      2319\n",
      "\n",
      "    accuracy                           0.84      5327\n",
      "   macro avg       0.84      0.83      0.84      5327\n",
      "weighted avg       0.84      0.84      0.84      5327\n",
      " \n",
      "\n"
     ]
    },
    {
     "data": {
      "image/png": "[encoded data removed]",
      "text/plain": [
       "<Figure size 432x288 with 2 Axes>"
      ]
     },
     "metadata": {
      "needs_background": "light"
     },
     "output_type": "display_data"
    }
   ],
   "source": [
    "LR_classifier = grid_LR_clf.best_estimator_\n",
    "y_pred = LR_classifier.predict(X_train)\n",
    "showResults(y_train, y_pred)"
   ]
  },
  {
   "cell_type": "code",
   "execution_count": 122,
   "metadata": {},
   "outputs": [
    {
     "name": "stdout",
     "output_type": "stream",
     "text": [
      "              precision    recall  f1-score   support\n",
      "\n",
      "           0       0.80      0.86      0.83      1333\n",
      "           1       0.78      0.69      0.73       951\n",
      "\n",
      "    accuracy                           0.79      2284\n",
      "   macro avg       0.79      0.78      0.78      2284\n",
      "weighted avg       0.79      0.79      0.79      2284\n",
      " \n",
      "\n"
     ]
    },
    {
     "data": {
      "image/png": "[encoded data removed]",
      "text/plain": [
       "<Figure size 432x288 with 2 Axes>"
      ]
     },
     "metadata": {
      "needs_background": "light"
     },
     "output_type": "display_data"
    }
   ],
   "source": [
    "y_pred = LR_classifier.predict(X_test)\n",
    "showResults(y_test, y_pred)"
   ]
  },
  {
   "cell_type": "markdown",
   "metadata": {},
   "source": [
    "By excluding meta features we get an accuracy of 79% therefore the meta features derived during analysis have proved useful in increasing the accuracy of the classifier by 1%. "
   ]
  }
 ],
 "metadata": {
  "kernelspec": {
   "display_name": "Python 3",
   "language": "python",
   "name": "python3"
  },
  "language_info": {
   "codemirror_mode": {
    "name": "ipython",
    "version": 3
   },
   "file_extension": ".py",
   "mimetype": "text/x-python",
   "name": "python",
   "nbconvert_exporter": "python",
   "pygments_lexer": "ipython3",
   "version": "3.7.6"
  }
 },
 "nbformat": 4,
 "nbformat_minor": 4
}
